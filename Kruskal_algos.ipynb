{
 "cells": [
  {
   "cell_type": "code",
   "execution_count": 1,
   "metadata": {},
   "outputs": [],
   "source": [
    "from collections import defaultdict"
   ]
  },
  {
   "cell_type": "code",
   "execution_count": 2,
   "metadata": {},
   "outputs": [],
   "source": [
    "parent = dict()\n",
    "rank = dict()\n",
    "\n",
    "def make_set(v):\n",
    "    parent[v] = v\n",
    "    rank[v] = 0\n",
    "\n",
    "def find(v):\n",
    "    if parent[v] != v:\n",
    "        parent[v] = find(parent[v])\n",
    "    return parent[v]\n",
    "\n",
    "def union(v1, v2):\n",
    "    root1 = find(v1)\n",
    "    root2 = find(v2)\n",
    "    if rank[root1] < rank[root2]:\n",
    "        parent[root1] = root2\n",
    "    elif rank[root1] > rank[root2]:\n",
    "        parent[root2] = root1\n",
    "    \n",
    "    else:\n",
    "        parent[root2] = root1\n",
    "        rank[root1] += 1\n",
    "\n",
    "def kruskal(graph):\n",
    "    for v in graph['vertices']:\n",
    "        make_set(v)\n",
    "        mst = set()\n",
    "        edges = list(graph['edges'])\n",
    "        edges.sort()\n",
    "        #print edges\n",
    "    for edge in edges:\n",
    "        w, v1, v2 = edge\n",
    "        if find(v1) != find(v2):\n",
    "            union(v1, v2)\n",
    "            mst.add(edge)\n",
    "\n",
    "    return sorted(mst)\n",
    "\n",
    "graph = {\n",
    "'vertices': ['A', 'B', 'C', 'D', 'E', 'F', 'G'],\n",
    "'edges': set([(2, 'A', 'B'),\n",
    "              (3, 'A', 'C'),\n",
    "              (2, 'B', 'A'),\n",
    "              (1, 'B', 'C'),\n",
    "              (1, 'B', 'D'),\n",
    "              (4, 'B', 'E'),\n",
    "              (3, 'C', 'A'),\n",
    "              (1, 'C', 'B'),\n",
    "              (5, 'C', 'F'),\n",
    "              (1, 'D', 'B'),\n",
    "              (1, 'D', 'E'),\n",
    "              (4, 'E', 'B'),\n",
    "              (1, 'E', 'D'),\n",
    "              (1, 'E', 'F'),\n",
    "              (5, 'F', 'C'),\n",
    "              (1, 'F', 'D'),\n",
    "              (1, 'F', 'G'),\n",
    "              (1, 'G', 'F')\n",
    "               \n",
    "])\n",
    "}"
   ]
  },
  {
   "cell_type": "code",
   "execution_count": 3,
   "metadata": {},
   "outputs": [
    {
     "name": "stdout",
     "output_type": "stream",
     "text": [
      "[(1, 'B', 'C'), (1, 'B', 'D'), (1, 'D', 'E'), (1, 'E', 'F'), (1, 'F', 'G'), (2, 'A', 'B')]\n"
     ]
    }
   ],
   "source": [
    "mst = kruskal(graph)\n",
    "print(mst)"
   ]
  },
  {
   "cell_type": "code",
   "execution_count": 4,
   "metadata": {},
   "outputs": [],
   "source": [
    "from graphviz import Digraph\n",
    "\n",
    "def disGraph(graph, filename):\n",
    "    g = Digraph('G', filename=filename)\n",
    "    \n",
    "    for w, v1, v2 in graph:\n",
    "        \n",
    "        g.edge(v1, v2)\n",
    "    g.view()\n",
    "disGraph(mst, 'kruskal.gv')"
   ]
  },
  {
   "cell_type": "markdown",
   "metadata": {},
   "source": [
    "#### ứng dụng "
   ]
  },
  {
   "cell_type": "code",
   "execution_count": 5,
   "metadata": {},
   "outputs": [],
   "source": [
    "g = {'vertices': ['A', 'B', 'C', 'D', 'E', 'F', 'G', 'H', 'I', 'J', 'K', 'L'],\n",
    "'edges': set([\n",
    "    (6, 'A', 'B'), (6, 'A', 'C'), (6, 'A', 'D'), \n",
    "    (6, 'B', 'A'), (1, 'B', 'C'), (7, 'B', 'E'),\n",
    "    (6, 'C', 'A'), (2, 'C', 'D'), (2, 'C', 'G'),\n",
    "    (6, 'D', 'A'), (2, 'D', 'C'), (18, 'D', 'J'),\n",
    "    (2, 'E', 'B'), (7, 'E', 'C'), (4, 'E', 'F'),\n",
    "    (4, 'F', 'E'), (11, 'F', 'G'), (10, 'F', 'H'),\n",
    "    (2, 'G', 'C'), (11, 'G', 'F'), (22, 'G', 'H'), (2, 'G', 'I'),\n",
    "    (10, 'H', 'F'), (22, 'H', 'G'), (12, 'H', 'I'), (25, 'H', 'K'),\n",
    "    (2, 'I', 'G'), (12, 'I', 'H'), (1, 'I', 'J'),\n",
    "    (18, 'J', 'D'), (1, 'J', 'I'), (8, 'J', 'L'),\n",
    "    (25, 'K', 'H'), (16, 'K', 'I'), (3, 'K', 'L'),\n",
    "    (8, 'L', 'J'), (3, 'L', 'K')\n",
    "])}\n",
    "mst_app = kruskal(g)\n",
    "disGraph(mst_app, 'app_mst_kruskal.gv')"
   ]
  },
  {
   "cell_type": "code",
   "execution_count": null,
   "metadata": {},
   "outputs": [],
   "source": []
  }
 ],
 "metadata": {
  "kernelspec": {
   "display_name": "Python 3",
   "language": "python",
   "name": "python3"
  },
  "language_info": {
   "codemirror_mode": {
    "name": "ipython",
    "version": 3
   },
   "file_extension": ".py",
   "mimetype": "text/x-python",
   "name": "python",
   "nbconvert_exporter": "python",
   "pygments_lexer": "ipython3",
   "version": "3.7.3"
  }
 },
 "nbformat": 4,
 "nbformat_minor": 2
}
