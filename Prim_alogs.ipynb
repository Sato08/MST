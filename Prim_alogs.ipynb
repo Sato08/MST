{
 "cells": [
  {
   "cell_type": "code",
   "execution_count": 1,
   "metadata": {},
   "outputs": [],
   "source": [
    "from collections import defaultdict\n",
    "import heapq\n",
    "\n",
    "\n",
    "def create_spanning_tree(graph, starting_vertex):\n",
    "    mst = defaultdict(set)\n",
    "    visited = set([starting_vertex])\n",
    "    edges = [\n",
    "        (cost, starting_vertex, to)\n",
    "        for to, cost in graph[starting_vertex].items()\n",
    "    ]\n",
    "    heapq.heapify(edges)\n",
    "\n",
    "    while edges:\n",
    "        cost, frm, to = heapq.heappop(edges)\n",
    "        \n",
    "        if to not in visited:\n",
    "            visited.add(to)\n",
    "            mst[frm].add((to, cost))\n",
    "            for to_next, cost in graph[to].items(): \n",
    "                if to_next not in visited:\n",
    "                    heapq.heappush(edges, (cost, to, to_next))\n",
    "\n",
    "    return dict(mst)\n",
    "\n",
    "example_graph = {\n",
    "    'A': {'B': 2, 'C': 3},\n",
    "    'B': {'A': 2, 'C': 1, 'D': 1, 'E': 4},\n",
    "    'C': {'A': 3, 'B': 1, 'F': 5},\n",
    "    'D': {'B': 1, 'E': 1},\n",
    "    'E': {'B': 4, 'D': 1, 'F': 1},\n",
    "    'F': {'C': 5, 'E': 1, 'G': 1},\n",
    "    'G': {'F': 1},\n",
    "}\n",
    "\n",
    "result = create_spanning_tree(example_graph, 'A')\n"
   ]
  },
  {
   "cell_type": "code",
   "execution_count": 2,
   "metadata": {},
   "outputs": [],
   "source": [
    "from graphviz import Digraph\n",
    "\n",
    "def disGraph(graph, filename):\n",
    "    g = Digraph('G', filename=filename)\n",
    "    for keys, values in graph.items():\n",
    "        for value, cost in values:\n",
    "            g.edge(keys, value)\n",
    "    g.view()\n",
    "disGraph(result, 'result.gv')"
   ]
  },
  {
   "cell_type": "markdown",
   "metadata": {},
   "source": [
    "#### Ứ ng dụng cụ thể"
   ]
  },
  {
   "cell_type": "code",
   "execution_count": 3,
   "metadata": {},
   "outputs": [],
   "source": [
    "g = {\n",
    "    \"A\": {'B': 6, 'C': 6, 'D': 6},\n",
    "    \"B\": {'A': 6, 'C': 1, 'E': 7},\n",
    "    \"C\": {'A': 6, 'D': 2, 'G': 2},\n",
    "    \"D\": {'A': 6, 'C': 2, 'J': 18},\n",
    "    \"E\": {'B': 2, 'C': 7, 'F': 4},\n",
    "    \"F\": {'E': 4, 'G': 11, 'H': 10},\n",
    "    \"G\": {'C': 2, 'F': 11, 'H': 22, 'I': 2},\n",
    "    \"H\": {'F': 10, 'G': 22, 'I': 12, 'K': 25},\n",
    "    \"I\": {'G': 2, 'H': 12, 'J': 1},\n",
    "    \"J\": {'D': 18, 'I': 1, 'L': 8},\n",
    "    \"K\": {'H': 25, 'I': 16, 'L': 3},\n",
    "    \"L\": {'J': 8, 'K': 3}\n",
    "    }\n",
    "mst = create_spanning_tree(g, 'A')\n",
    "\n",
    "disGraph(mst, 'app_mst_prim.gv')"
   ]
  }
 ],
 "metadata": {
  "kernelspec": {
   "display_name": "Python 3",
   "language": "python",
   "name": "python3"
  },
  "language_info": {
   "codemirror_mode": {
    "name": "ipython",
    "version": 3
   },
   "file_extension": ".py",
   "mimetype": "text/x-python",
   "name": "python",
   "nbconvert_exporter": "python",
   "pygments_lexer": "ipython3",
   "version": "3.7.3"
  }
 },
 "nbformat": 4,
 "nbformat_minor": 2
}
