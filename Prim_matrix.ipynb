{
 "cells": [
  {
   "cell_type": "code",
   "execution_count": 1,
   "metadata": {},
   "outputs": [
    {
     "data": {
      "text/plain": [
       "{'A': {('B', 2)},\n",
       " 'B': {('C', 1), ('D', 1)},\n",
       " 'D': {('E', 1)},\n",
       " 'E': {('F', 1)},\n",
       " 'F': {('G', 1)}}"
      ]
     },
     "execution_count": 1,
     "metadata": {},
     "output_type": "execute_result"
    }
   ],
   "source": [
    "from collections import defaultdict\n",
    "import heapq\n",
    "def creat_spanning_tree(graph, V,start):\n",
    "    for i, v in enumerate(V):\n",
    "        if(v == start):\n",
    "            id_start = i\n",
    "            break\n",
    "    mst = defaultdict(set)\n",
    "    visited = set([id_start])\n",
    "    edges = [(graph[i][id_start], id_start, i) for i in range(len(graph)) if graph[i][id_start]!= 0]\n",
    "    heapq.heapify(edges)\n",
    "    while edges:\n",
    "        w, s, t = heapq.heappop(edges)\n",
    "        if t not in visited:\n",
    "            visited.add(t)\n",
    "            mst[V[s]].add((V[t], w))\n",
    "            edge = [(i, graph[i][t]) for i in range(len(graph)) if graph[i][t]!= 0]\n",
    "            for to_next, w in edge:\n",
    "                if to_next not in visited:\n",
    "                    heapq.heappush(edges, (w, t, to_next))\n",
    "    return dict(mst)\n",
    "\n",
    "graph = [\n",
    "    [0, 2, 3, 0, 0, 0, 0],\n",
    "    [2, 0, 1, 1, 4, 0, 0],\n",
    "    [3, 1, 0, 0, 0, 5, 0],\n",
    "    [0, 1, 0, 0, 1, 0, 0],\n",
    "    [0, 4, 0, 1, 0, 1, 0],\n",
    "    [0, 0, 5, 0, 1, 0, 1],\n",
    "    [0, 0, 0, 0, 0, 1, 0]\n",
    "]\n",
    "V = [\"A\", \"B\", \"C\", \"D\", \"E\", \"F\", \"G\"]\n",
    "creat_spanning_tree(graph, V, \"A\")\n",
    "    "
   ]
  },
  {
   "cell_type": "code",
   "execution_count": 2,
   "metadata": {},
   "outputs": [],
   "source": [
    "from graphviz import Digraph\n",
    "\n",
    "def disGraph(graph, filename):\n",
    "    g = Digraph('G', filename=filename)\n",
    "    \n",
    "    for keys, values in graph.items():\n",
    "        for value, cost in values:\n",
    "            g.edge(keys, value)\n",
    "    g.view()\n",
    "mst = creat_spanning_tree(graph, V, \"A\")\n",
    "disGraph(mst, 'mst_prim_matrix.gv')"
   ]
  },
  {
   "cell_type": "code",
   "execution_count": null,
   "metadata": {},
   "outputs": [],
   "source": []
  }
 ],
 "metadata": {
  "kernelspec": {
   "display_name": "Python 3",
   "language": "python",
   "name": "python3"
  },
  "language_info": {
   "codemirror_mode": {
    "name": "ipython",
    "version": 3
   },
   "file_extension": ".py",
   "mimetype": "text/x-python",
   "name": "python",
   "nbconvert_exporter": "python",
   "pygments_lexer": "ipython3",
   "version": "3.7.3"
  }
 },
 "nbformat": 4,
 "nbformat_minor": 2
}
